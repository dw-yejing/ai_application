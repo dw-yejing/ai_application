{
 "cells": [
  {
   "cell_type": "code",
   "execution_count": null,
   "metadata": {},
   "outputs": [],
   "source": [
    "import torch\n",
    "import torch.nn as nn\n",
    "import torchvision\n",
    "import torchvision.transforms as T\n",
    "import numpy as np\n",
    "import random\n",
    "import matplotlib.pyplot as plt\n",
    "from PIL import Image\n",
    "from collections import defaultdict\n"
   ]
  },
  {
   "cell_type": "code",
   "execution_count": null,
   "metadata": {},
   "outputs": [],
   "source": [
    "import torch\n",
    "import torch.nn.functional as F\n",
    "import numpy as np\n",
    "\n",
    "# 创建一个形状为 (10, 10) 的示例张量\n",
    "a = torch.rand((10, 10))\n",
    "\n",
    "# 使用 softmax 函数进行计算\n",
    "softmax_result = F.softmax(a, dim=1)\n",
    "\n",
    "a = softmax_result[0].numpy()\n",
    "b = np.sum(a)\n",
    "print(softmax_result)\n",
    "print(b)\n"
   ]
  },
  {
   "cell_type": "code",
   "execution_count": null,
   "metadata": {},
   "outputs": [],
   "source": [
    "import torch\n",
    "\n",
    "# 创建一个形状为 (10,) 的张量，表示类别标签\n",
    "b = torch.tensor([0, 1, 2, 3, 4, 5, 6, 7, 8, 9])\n",
    "\n",
    "# 使用 PyTorch 的函数将其转换为 one-hot 编码\n",
    "b_one_hot = torch.nn.functional.one_hot(b, num_classes=10)\n",
    "\n",
    "print(b_one_hot)\n"
   ]
  },
  {
   "cell_type": "code",
   "execution_count": null,
   "metadata": {},
   "outputs": [],
   "source": [
    "from dataset import cifar10_test\n",
    "import matplotlib.pyplot as plt\n",
    "\n",
    "img0 = cifar10_test[6667-1][0]\n",
    "\n",
    "\n",
    "plt.imshow(img0.permute(1,2,0))\n",
    "plt.show()"
   ]
  },
  {
   "cell_type": "code",
   "execution_count": null,
   "metadata": {},
   "outputs": [],
   "source": [
    "from dataset import cifar10_test\n",
    "import matplotlib.pyplot as plt\n",
    "\n",
    "\n",
    "img1 = cifar10_test[5245-1][0]\n",
    "\n",
    "plt.imshow(img1.permute(1,2,0))\n",
    "plt.show()"
   ]
  },
  {
   "cell_type": "code",
   "execution_count": null,
   "metadata": {},
   "outputs": [],
   "source": [
    "import torchvision\n",
    "import numpy as np\n",
    "from PIL import Image\n",
    "import torchvision.transforms as T\n",
    "\n",
    "transform = T.Compose([ T.ToTensor()])\n",
    "height_width = 32\n",
    "cifar10_test = torchvision.datasets.CIFAR10(root='F:/dataset', transform=transform, train=False, download=True )\n",
    "def show_collage(examples):\n",
    "    box_size = height_width + 2\n",
    "    num_cols = len(examples)\n",
    "\n",
    "    collage = Image.new(\n",
    "        mode=\"RGB\",\n",
    "        size=(num_cols * box_size,  box_size),\n",
    "        color=(255, 255, 255),\n",
    "    )\n",
    "    for col_idx in range(num_cols):\n",
    "        array = examples[col_idx].permute(1,2,0).numpy()\n",
    "        collage.paste(\n",
    "            Image.fromarray(array), (col_idx * box_size,  box_size)\n",
    "        )\n",
    "\n",
    "    collage = collage.resize((2 * num_cols * box_size, 2 * box_size))\n",
    "    return collage\n",
    "\n",
    "sample_idxs = np.random.randint(0, 10000, size=(5))\n",
    "examples = [cifar10_test[i-1] for i in sample_idxs]\n",
    "show_collage(examples)\n"
   ]
  }
 ],
 "metadata": {
  "kernelspec": {
   "display_name": "expriment",
   "language": "python",
   "name": "python3"
  },
  "language_info": {
   "codemirror_mode": {
    "name": "ipython",
    "version": 3
   },
   "file_extension": ".py",
   "mimetype": "text/x-python",
   "name": "python",
   "nbconvert_exporter": "python",
   "pygments_lexer": "ipython3",
   "version": "3.9.17"
  },
  "orig_nbformat": 4
 },
 "nbformat": 4,
 "nbformat_minor": 2
}
